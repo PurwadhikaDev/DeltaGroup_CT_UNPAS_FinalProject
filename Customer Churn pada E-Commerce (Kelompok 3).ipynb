{
 "cells": [
  {
   "cell_type": "markdown",
   "id": "129e09b9",
   "metadata": {},
   "source": [
    "# Customer Churn pada E-Commerce\n",
    "Oleh Kelompok 3"
   ]
  },
  {
   "cell_type": "markdown",
   "id": "a1cd941c",
   "metadata": {},
   "source": [
    "## Business Problem Understanding"
   ]
  },
  {
   "cell_type": "markdown",
   "id": "ddf16d0b",
   "metadata": {},
   "source": [
    "### context\n",
    "Customer churn pada E-Commerce adalah ketika customer akhirnya berhenti mengkonsumsi sesuatu dari sebuah e-commerce, untuk mengetahui customer churn atau tidak biasanya dilihat dari lamanya customer meninggalkan aplikasi e commerce selama periode waktu tertentu. Sebuah perusahaan ingin mengetahui apa penyebab dari customer churn yang terjasi dalam bisnisnya. Fokus utama sebuah e-commerce adalah mempertahankan pelanggan lama dan mengakusisi pelanggan baru.\n",
    "Kenyamanan pelanggan menjadi point penting karena dapat menciptakan loyalitas pelanggan dan membuat pelanggan secara tidak langsung akan mempromosikan produk dari mulut ke mulut ketika mereka merasa puas terhadap suatu produk juga akan membuat customer meningkatkan permintaan pembelian produk, serta meningkatkan retensi customer dengan perusahaan.\n",
    "\n",
    "Target :\n",
    "\n",
    "0 : `No Churn`\n",
    "\n",
    "1 : `Churn`"
   ]
  },
  {
   "cell_type": "markdown",
   "id": "f78ab352",
   "metadata": {},
   "source": [
    "#### Problem Statement\n",
    "Customer churn perlu dihentikan karena akan menyebabkan kerugian bagi perusahaan, juga mempertahankan pelanggan lama jauh lebih efektif dibanding mencari pelanggan baru karena biaya yang dikeluarkan lebih banyak. Maka dari itu perusahaan perlu mencari tahu karakteristik customer yang churn itu bagaimana sehingga customer yang masih bertahan dapat diberikan treatment khusus untuk terhindar dari customer churn."
   ]
  },
  {
   "cell_type": "markdown",
   "id": "db8d78d4",
   "metadata": {},
   "source": [
    "### Goals\n",
    "Maka berdasarkan permasalahan tersebut, setelah perusahaan mengetahui karakteristik customer yang churn itu bagaimana perusahaan dapat melakukan evaluasi untuk memperbaiki kekurangan yang menjadi penyebab customer meninggalkan bisnis perusahaan."
   ]
  },
  {
   "cell_type": "markdown",
   "id": "011fc2fc",
   "metadata": {},
   "source": [
    "### Analytic Approach \n",
    "Jadi yang akan kita lakukan adalah menganalisis data untuk mencari tahu ciri-ciri customer yang churn, sehingga perusahaan dapat mengambil tindakan untuk meminimalisir customer churn."
   ]
  },
  {
   "cell_type": "code",
   "execution_count": 2,
   "id": "cc20a8a0",
   "metadata": {},
   "outputs": [
    {
     "name": "stdout",
     "output_type": "stream",
     "text": [
      "Requirement already satisfied: openpyxl in c:\\users\\asus\\appdata\\local\\programs\\python\\python310\\lib\\site-packages (3.0.10)Note: you may need to restart the kernel to use updated packages.\n",
      "\n",
      "Requirement already satisfied: et-xmlfile in c:\\users\\asus\\appdata\\local\\programs\\python\\python310\\lib\\site-packages (from openpyxl) (1.1.0)\n"
     ]
    },
    {
     "name": "stderr",
     "output_type": "stream",
     "text": [
      "\n",
      "[notice] A new release of pip available: 22.2.1 -> 22.3.1\n",
      "[notice] To update, run: C:\\Users\\ASUS\\AppData\\Local\\Programs\\Python\\Python310\\python.exe -m pip install --upgrade pip\n"
     ]
    }
   ],
   "source": [
    "pip install openpyxl"
   ]
  },
  {
   "cell_type": "code",
   "execution_count": 227,
   "id": "80544981",
   "metadata": {},
   "outputs": [],
   "source": [
    "import numpy as np\n",
    "import pandas as pd\n",
    "import matplotlib.pyplot as plt\n",
    "import seaborn as sns\n",
    "\n",
    "import chart_studio.plotly as py\n",
    "import plotly.graph_objs as go\n",
    "from plotly.offline import iplot\n",
    "\n",
    "\n",
    "from sklearn.preprocessing import LabelEncoder\n",
    "from sklearn.model_selection import train_test_split\n",
    "from sklearn.pipeline import Pipeline\n",
    "from sklearn.compose import ColumnTransformer\n",
    "from sklearn.linear_model import LogisticRegression\n",
    "from sklearn.ensemble import RandomForestClassifier\n",
    "from sklearn.ensemble import GradientBoostingClassifier\n",
    "from sklearn.metrics import confusion_matrix, classification_report\n",
    "import pickle\n",
    "from pathlib import Path"
   ]
  },
  {
   "cell_type": "markdown",
   "id": "c1a6efda",
   "metadata": {},
   "source": [
    "### Attribute Information\n",
    "| Attribute | Data Type | Description |\n",
    "| --- | --- | --- |\n",
    "| CustomerID| int64 | Unique customer ID |\n",
    "| Churn| int64 | Churn Flag |\n",
    "| Tenure| float64 | Tenure of customer in organization |\n",
    "| PreferredLoginDevice| object | Preferred login device of customer |\n",
    "|CityTier | int64 | City tier |\n",
    "| WarehouseToHome | float64 | Distance in between warehouse to home of customer |\n",
    "| PreferredPaymentMode | object | Preferred payment method of customer |\n",
    "| Gender | object | Gender of customer |\n",
    "| HourSpendOnApp | float64 | Number of hours spend on mobile application or website |\n",
    "| NumberOfDeviceRegistered  | int64 | Total number of deceives is registered on particular customer |\n",
    "| PreferedOrderCat | object | Preferred order category of customer in last month |\n",
    "| SatisfactionScore | int64 | Satisfactory score of customer on service |\n",
    "| MaritalStatus | object | Marital status of customer |\n",
    "| NumberOfAddress | int64 | Total number of added added on particular customer |\n",
    "| Complain | int64 | Any complaint has been raised in last month |\n",
    "| OrderAmountHikeFromlastYear| float64 | Percentage increases in order from last year |\n",
    "| CouponUsed | float64 | Total number of coupon has been used in last month |\n",
    "| OrderCount | float64 | Total number of orders has been places in last month|\n",
    "| DaySinceLastOrder| float64 | Day Since last order by customer |\n",
    "| CashbackAmount | float64 | Average cashback in last month |"
   ]
  },
  {
   "cell_type": "code",
   "execution_count": 228,
   "id": "a0bbd755",
   "metadata": {},
   "outputs": [
    {
     "data": {
      "text/html": [
       "<div>\n",
       "<style scoped>\n",
       "    .dataframe tbody tr th:only-of-type {\n",
       "        vertical-align: middle;\n",
       "    }\n",
       "\n",
       "    .dataframe tbody tr th {\n",
       "        vertical-align: top;\n",
       "    }\n",
       "\n",
       "    .dataframe thead th {\n",
       "        text-align: right;\n",
       "    }\n",
       "</style>\n",
       "<table border=\"1\" class=\"dataframe\">\n",
       "  <thead>\n",
       "    <tr style=\"text-align: right;\">\n",
       "      <th></th>\n",
       "      <th>CustomerID</th>\n",
       "      <th>Churn</th>\n",
       "      <th>Tenure</th>\n",
       "      <th>PreferredLoginDevice</th>\n",
       "      <th>CityTier</th>\n",
       "      <th>WarehouseToHome</th>\n",
       "      <th>PreferredPaymentMode</th>\n",
       "      <th>Gender</th>\n",
       "      <th>HourSpendOnApp</th>\n",
       "      <th>NumberOfDeviceRegistered</th>\n",
       "      <th>...</th>\n",
       "      <th>Complain</th>\n",
       "      <th>OrderAmountHikeFromlastYear</th>\n",
       "      <th>CouponUsed</th>\n",
       "      <th>OrderCount</th>\n",
       "      <th>DaySinceLastOrder</th>\n",
       "      <th>CashbackAmount</th>\n",
       "      <th>Unnamed: 20</th>\n",
       "      <th>Unnamed: 21</th>\n",
       "      <th>curn</th>\n",
       "      <th>Unnamed: 23</th>\n",
       "    </tr>\n",
       "  </thead>\n",
       "  <tbody>\n",
       "    <tr>\n",
       "      <th>0</th>\n",
       "      <td>50001</td>\n",
       "      <td>1</td>\n",
       "      <td>4.0</td>\n",
       "      <td>Mobile Phone</td>\n",
       "      <td>3</td>\n",
       "      <td>6.0</td>\n",
       "      <td>Debit Card</td>\n",
       "      <td>Female</td>\n",
       "      <td>3.0</td>\n",
       "      <td>3</td>\n",
       "      <td>...</td>\n",
       "      <td>1</td>\n",
       "      <td>11.0</td>\n",
       "      <td>1.0</td>\n",
       "      <td>1.0</td>\n",
       "      <td>5.0</td>\n",
       "      <td>159.93</td>\n",
       "      <td>NaN</td>\n",
       "      <td>NaN</td>\n",
       "      <td>NaN</td>\n",
       "      <td>NaN</td>\n",
       "    </tr>\n",
       "    <tr>\n",
       "      <th>1</th>\n",
       "      <td>50002</td>\n",
       "      <td>1</td>\n",
       "      <td>NaN</td>\n",
       "      <td>Phone</td>\n",
       "      <td>1</td>\n",
       "      <td>8.0</td>\n",
       "      <td>UPI</td>\n",
       "      <td>Male</td>\n",
       "      <td>3.0</td>\n",
       "      <td>4</td>\n",
       "      <td>...</td>\n",
       "      <td>1</td>\n",
       "      <td>15.0</td>\n",
       "      <td>0.0</td>\n",
       "      <td>1.0</td>\n",
       "      <td>0.0</td>\n",
       "      <td>120.90</td>\n",
       "      <td>NaN</td>\n",
       "      <td>NaN</td>\n",
       "      <td>no curn</td>\n",
       "      <td>4682.0</td>\n",
       "    </tr>\n",
       "    <tr>\n",
       "      <th>2</th>\n",
       "      <td>50003</td>\n",
       "      <td>1</td>\n",
       "      <td>NaN</td>\n",
       "      <td>Phone</td>\n",
       "      <td>1</td>\n",
       "      <td>30.0</td>\n",
       "      <td>Debit Card</td>\n",
       "      <td>Male</td>\n",
       "      <td>2.0</td>\n",
       "      <td>4</td>\n",
       "      <td>...</td>\n",
       "      <td>1</td>\n",
       "      <td>14.0</td>\n",
       "      <td>0.0</td>\n",
       "      <td>1.0</td>\n",
       "      <td>3.0</td>\n",
       "      <td>120.28</td>\n",
       "      <td>NaN</td>\n",
       "      <td>NaN</td>\n",
       "      <td>curn</td>\n",
       "      <td>949.0</td>\n",
       "    </tr>\n",
       "    <tr>\n",
       "      <th>3</th>\n",
       "      <td>50004</td>\n",
       "      <td>1</td>\n",
       "      <td>0.0</td>\n",
       "      <td>Phone</td>\n",
       "      <td>3</td>\n",
       "      <td>15.0</td>\n",
       "      <td>Debit Card</td>\n",
       "      <td>Male</td>\n",
       "      <td>2.0</td>\n",
       "      <td>4</td>\n",
       "      <td>...</td>\n",
       "      <td>0</td>\n",
       "      <td>23.0</td>\n",
       "      <td>0.0</td>\n",
       "      <td>1.0</td>\n",
       "      <td>3.0</td>\n",
       "      <td>134.07</td>\n",
       "      <td>NaN</td>\n",
       "      <td>NaN</td>\n",
       "      <td>NaN</td>\n",
       "      <td>NaN</td>\n",
       "    </tr>\n",
       "    <tr>\n",
       "      <th>4</th>\n",
       "      <td>50005</td>\n",
       "      <td>1</td>\n",
       "      <td>0.0</td>\n",
       "      <td>Phone</td>\n",
       "      <td>1</td>\n",
       "      <td>12.0</td>\n",
       "      <td>CC</td>\n",
       "      <td>Male</td>\n",
       "      <td>NaN</td>\n",
       "      <td>3</td>\n",
       "      <td>...</td>\n",
       "      <td>0</td>\n",
       "      <td>11.0</td>\n",
       "      <td>1.0</td>\n",
       "      <td>1.0</td>\n",
       "      <td>3.0</td>\n",
       "      <td>129.60</td>\n",
       "      <td>NaN</td>\n",
       "      <td>NaN</td>\n",
       "      <td>NaN</td>\n",
       "      <td>NaN</td>\n",
       "    </tr>\n",
       "  </tbody>\n",
       "</table>\n",
       "<p>5 rows × 24 columns</p>\n",
       "</div>"
      ],
      "text/plain": [
       "   CustomerID  Churn  Tenure PreferredLoginDevice  CityTier  WarehouseToHome  \\\n",
       "0       50001      1     4.0         Mobile Phone         3              6.0   \n",
       "1       50002      1     NaN                Phone         1              8.0   \n",
       "2       50003      1     NaN                Phone         1             30.0   \n",
       "3       50004      1     0.0                Phone         3             15.0   \n",
       "4       50005      1     0.0                Phone         1             12.0   \n",
       "\n",
       "  PreferredPaymentMode  Gender  HourSpendOnApp  NumberOfDeviceRegistered  ...  \\\n",
       "0           Debit Card  Female             3.0                         3  ...   \n",
       "1                  UPI    Male             3.0                         4  ...   \n",
       "2           Debit Card    Male             2.0                         4  ...   \n",
       "3           Debit Card    Male             2.0                         4  ...   \n",
       "4                   CC    Male             NaN                         3  ...   \n",
       "\n",
       "  Complain  OrderAmountHikeFromlastYear CouponUsed  OrderCount  \\\n",
       "0        1                         11.0        1.0         1.0   \n",
       "1        1                         15.0        0.0         1.0   \n",
       "2        1                         14.0        0.0         1.0   \n",
       "3        0                         23.0        0.0         1.0   \n",
       "4        0                         11.0        1.0         1.0   \n",
       "\n",
       "   DaySinceLastOrder  CashbackAmount  Unnamed: 20  Unnamed: 21     curn  \\\n",
       "0                5.0          159.93          NaN          NaN      NaN   \n",
       "1                0.0          120.90          NaN          NaN  no curn   \n",
       "2                3.0          120.28          NaN          NaN     curn   \n",
       "3                3.0          134.07          NaN          NaN      NaN   \n",
       "4                3.0          129.60          NaN          NaN      NaN   \n",
       "\n",
       "   Unnamed: 23  \n",
       "0          NaN  \n",
       "1       4682.0  \n",
       "2        949.0  \n",
       "3          NaN  \n",
       "4          NaN  \n",
       "\n",
       "[5 rows x 24 columns]"
      ]
     },
     "execution_count": 228,
     "metadata": {},
     "output_type": "execute_result"
    }
   ],
   "source": [
    "#load data\n",
    "df = pd.read_excel(\"E_Commerce_Dataset.xlsx\")\n",
    "df.head()"
   ]
  },
  {
   "cell_type": "code",
   "execution_count": 229,
   "id": "b94c6b24",
   "metadata": {},
   "outputs": [
    {
     "data": {
      "text/html": [
       "<div>\n",
       "<style scoped>\n",
       "    .dataframe tbody tr th:only-of-type {\n",
       "        vertical-align: middle;\n",
       "    }\n",
       "\n",
       "    .dataframe tbody tr th {\n",
       "        vertical-align: top;\n",
       "    }\n",
       "\n",
       "    .dataframe thead th {\n",
       "        text-align: right;\n",
       "    }\n",
       "</style>\n",
       "<table border=\"1\" class=\"dataframe\">\n",
       "  <thead>\n",
       "    <tr style=\"text-align: right;\">\n",
       "      <th></th>\n",
       "      <th>CustomerID</th>\n",
       "      <th>Churn</th>\n",
       "      <th>Tenure</th>\n",
       "      <th>PreferredLoginDevice</th>\n",
       "      <th>CityTier</th>\n",
       "      <th>WarehouseToHome</th>\n",
       "      <th>PreferredPaymentMode</th>\n",
       "      <th>Gender</th>\n",
       "      <th>HourSpendOnApp</th>\n",
       "      <th>NumberOfDeviceRegistered</th>\n",
       "      <th>...</th>\n",
       "      <th>Complain</th>\n",
       "      <th>OrderAmountHikeFromlastYear</th>\n",
       "      <th>CouponUsed</th>\n",
       "      <th>OrderCount</th>\n",
       "      <th>DaySinceLastOrder</th>\n",
       "      <th>CashbackAmount</th>\n",
       "      <th>Unnamed: 20</th>\n",
       "      <th>Unnamed: 21</th>\n",
       "      <th>curn</th>\n",
       "      <th>Unnamed: 23</th>\n",
       "    </tr>\n",
       "  </thead>\n",
       "  <tbody>\n",
       "    <tr>\n",
       "      <th>5625</th>\n",
       "      <td>55626</td>\n",
       "      <td>0</td>\n",
       "      <td>10.0</td>\n",
       "      <td>Computer</td>\n",
       "      <td>1</td>\n",
       "      <td>30.0</td>\n",
       "      <td>Credit Card</td>\n",
       "      <td>Male</td>\n",
       "      <td>3.0</td>\n",
       "      <td>2</td>\n",
       "      <td>...</td>\n",
       "      <td>0</td>\n",
       "      <td>18.0</td>\n",
       "      <td>1.0</td>\n",
       "      <td>2.0</td>\n",
       "      <td>4.0</td>\n",
       "      <td>150.71</td>\n",
       "      <td>NaN</td>\n",
       "      <td>NaN</td>\n",
       "      <td>NaN</td>\n",
       "      <td>NaN</td>\n",
       "    </tr>\n",
       "    <tr>\n",
       "      <th>5626</th>\n",
       "      <td>55627</td>\n",
       "      <td>0</td>\n",
       "      <td>13.0</td>\n",
       "      <td>Mobile Phone</td>\n",
       "      <td>1</td>\n",
       "      <td>13.0</td>\n",
       "      <td>Credit Card</td>\n",
       "      <td>Male</td>\n",
       "      <td>3.0</td>\n",
       "      <td>5</td>\n",
       "      <td>...</td>\n",
       "      <td>0</td>\n",
       "      <td>16.0</td>\n",
       "      <td>1.0</td>\n",
       "      <td>2.0</td>\n",
       "      <td>NaN</td>\n",
       "      <td>224.91</td>\n",
       "      <td>NaN</td>\n",
       "      <td>NaN</td>\n",
       "      <td>NaN</td>\n",
       "      <td>NaN</td>\n",
       "    </tr>\n",
       "    <tr>\n",
       "      <th>5627</th>\n",
       "      <td>55628</td>\n",
       "      <td>0</td>\n",
       "      <td>1.0</td>\n",
       "      <td>Mobile Phone</td>\n",
       "      <td>1</td>\n",
       "      <td>11.0</td>\n",
       "      <td>Debit Card</td>\n",
       "      <td>Male</td>\n",
       "      <td>3.0</td>\n",
       "      <td>2</td>\n",
       "      <td>...</td>\n",
       "      <td>1</td>\n",
       "      <td>21.0</td>\n",
       "      <td>1.0</td>\n",
       "      <td>2.0</td>\n",
       "      <td>4.0</td>\n",
       "      <td>186.42</td>\n",
       "      <td>NaN</td>\n",
       "      <td>NaN</td>\n",
       "      <td>NaN</td>\n",
       "      <td>NaN</td>\n",
       "    </tr>\n",
       "    <tr>\n",
       "      <th>5628</th>\n",
       "      <td>55629</td>\n",
       "      <td>0</td>\n",
       "      <td>23.0</td>\n",
       "      <td>Computer</td>\n",
       "      <td>3</td>\n",
       "      <td>9.0</td>\n",
       "      <td>Credit Card</td>\n",
       "      <td>Male</td>\n",
       "      <td>4.0</td>\n",
       "      <td>5</td>\n",
       "      <td>...</td>\n",
       "      <td>0</td>\n",
       "      <td>15.0</td>\n",
       "      <td>2.0</td>\n",
       "      <td>2.0</td>\n",
       "      <td>9.0</td>\n",
       "      <td>178.90</td>\n",
       "      <td>NaN</td>\n",
       "      <td>NaN</td>\n",
       "      <td>NaN</td>\n",
       "      <td>NaN</td>\n",
       "    </tr>\n",
       "    <tr>\n",
       "      <th>5629</th>\n",
       "      <td>55630</td>\n",
       "      <td>0</td>\n",
       "      <td>8.0</td>\n",
       "      <td>Mobile Phone</td>\n",
       "      <td>1</td>\n",
       "      <td>15.0</td>\n",
       "      <td>Credit Card</td>\n",
       "      <td>Male</td>\n",
       "      <td>3.0</td>\n",
       "      <td>2</td>\n",
       "      <td>...</td>\n",
       "      <td>0</td>\n",
       "      <td>13.0</td>\n",
       "      <td>2.0</td>\n",
       "      <td>2.0</td>\n",
       "      <td>3.0</td>\n",
       "      <td>169.04</td>\n",
       "      <td>NaN</td>\n",
       "      <td>NaN</td>\n",
       "      <td>NaN</td>\n",
       "      <td>NaN</td>\n",
       "    </tr>\n",
       "  </tbody>\n",
       "</table>\n",
       "<p>5 rows × 24 columns</p>\n",
       "</div>"
      ],
      "text/plain": [
       "      CustomerID  Churn  Tenure PreferredLoginDevice  CityTier  \\\n",
       "5625       55626      0    10.0             Computer         1   \n",
       "5626       55627      0    13.0         Mobile Phone         1   \n",
       "5627       55628      0     1.0         Mobile Phone         1   \n",
       "5628       55629      0    23.0             Computer         3   \n",
       "5629       55630      0     8.0         Mobile Phone         1   \n",
       "\n",
       "      WarehouseToHome PreferredPaymentMode Gender  HourSpendOnApp  \\\n",
       "5625             30.0          Credit Card   Male             3.0   \n",
       "5626             13.0          Credit Card   Male             3.0   \n",
       "5627             11.0           Debit Card   Male             3.0   \n",
       "5628              9.0          Credit Card   Male             4.0   \n",
       "5629             15.0          Credit Card   Male             3.0   \n",
       "\n",
       "      NumberOfDeviceRegistered  ... Complain  OrderAmountHikeFromlastYear  \\\n",
       "5625                         2  ...        0                         18.0   \n",
       "5626                         5  ...        0                         16.0   \n",
       "5627                         2  ...        1                         21.0   \n",
       "5628                         5  ...        0                         15.0   \n",
       "5629                         2  ...        0                         13.0   \n",
       "\n",
       "     CouponUsed  OrderCount  DaySinceLastOrder  CashbackAmount  Unnamed: 20  \\\n",
       "5625        1.0         2.0                4.0          150.71          NaN   \n",
       "5626        1.0         2.0                NaN          224.91          NaN   \n",
       "5627        1.0         2.0                4.0          186.42          NaN   \n",
       "5628        2.0         2.0                9.0          178.90          NaN   \n",
       "5629        2.0         2.0                3.0          169.04          NaN   \n",
       "\n",
       "      Unnamed: 21  curn  Unnamed: 23  \n",
       "5625          NaN   NaN          NaN  \n",
       "5626          NaN   NaN          NaN  \n",
       "5627          NaN   NaN          NaN  \n",
       "5628          NaN   NaN          NaN  \n",
       "5629          NaN   NaN          NaN  \n",
       "\n",
       "[5 rows x 24 columns]"
      ]
     },
     "execution_count": 229,
     "metadata": {},
     "output_type": "execute_result"
    }
   ],
   "source": [
    "df.tail()"
   ]
  },
  {
   "cell_type": "markdown",
   "id": "3e9e3241",
   "metadata": {},
   "source": [
    "# Data Understanding and Cleaning"
   ]
  },
  {
   "cell_type": "code",
   "execution_count": 230,
   "id": "6ee910cf",
   "metadata": {},
   "outputs": [
    {
     "name": "stdout",
     "output_type": "stream",
     "text": [
      "<class 'pandas.core.frame.DataFrame'>\n",
      "RangeIndex: 5630 entries, 0 to 5629\n",
      "Data columns (total 24 columns):\n",
      " #   Column                       Non-Null Count  Dtype  \n",
      "---  ------                       --------------  -----  \n",
      " 0   CustomerID                   5630 non-null   int64  \n",
      " 1   Churn                        5630 non-null   int64  \n",
      " 2   Tenure                       5366 non-null   float64\n",
      " 3   PreferredLoginDevice         5630 non-null   object \n",
      " 4   CityTier                     5630 non-null   int64  \n",
      " 5   WarehouseToHome              5379 non-null   float64\n",
      " 6   PreferredPaymentMode         5630 non-null   object \n",
      " 7   Gender                       5630 non-null   object \n",
      " 8   HourSpendOnApp               5375 non-null   float64\n",
      " 9   NumberOfDeviceRegistered     5630 non-null   int64  \n",
      " 10  PreferedOrderCat             5630 non-null   object \n",
      " 11  SatisfactionScore            5630 non-null   int64  \n",
      " 12  MaritalStatus                5630 non-null   object \n",
      " 13  NumberOfAddress              5630 non-null   int64  \n",
      " 14  Complain                     5630 non-null   int64  \n",
      " 15  OrderAmountHikeFromlastYear  5365 non-null   float64\n",
      " 16  CouponUsed                   5374 non-null   float64\n",
      " 17  OrderCount                   5372 non-null   float64\n",
      " 18  DaySinceLastOrder            5323 non-null   float64\n",
      " 19  CashbackAmount               5630 non-null   float64\n",
      " 20  Unnamed: 20                  0 non-null      float64\n",
      " 21  Unnamed: 21                  0 non-null      float64\n",
      " 22  curn                         2 non-null      object \n",
      " 23  Unnamed: 23                  2 non-null      float64\n",
      "dtypes: float64(11), int64(7), object(6)\n",
      "memory usage: 1.0+ MB\n"
     ]
    }
   ],
   "source": [
    "#Function info digunakan untuk mengetahui tipe data pada setiap variable\n",
    "df.info()"
   ]
  },
  {
   "cell_type": "markdown",
   "id": "4aaf5d04",
   "metadata": {},
   "source": [
    "Kebanyakan variable berisi data numerik (float dan integer) dan beberapa berisi variable kategorikal (object)"
   ]
  },
  {
   "cell_type": "code",
   "execution_count": 231,
   "id": "0b33e00d",
   "metadata": {},
   "outputs": [
    {
     "data": {
      "text/plain": [
       "0"
      ]
     },
     "execution_count": 231,
     "metadata": {},
     "output_type": "execute_result"
    }
   ],
   "source": [
    "df.duplicated().sum()"
   ]
  },
  {
   "cell_type": "code",
   "execution_count": 232,
   "id": "1f27b5cc",
   "metadata": {},
   "outputs": [
    {
     "data": {
      "text/html": [
       "<div>\n",
       "<style scoped>\n",
       "    .dataframe tbody tr th:only-of-type {\n",
       "        vertical-align: middle;\n",
       "    }\n",
       "\n",
       "    .dataframe tbody tr th {\n",
       "        vertical-align: top;\n",
       "    }\n",
       "\n",
       "    .dataframe thead th {\n",
       "        text-align: right;\n",
       "    }\n",
       "</style>\n",
       "<table border=\"1\" class=\"dataframe\">\n",
       "  <thead>\n",
       "    <tr style=\"text-align: right;\">\n",
       "      <th></th>\n",
       "      <th>CustomerID</th>\n",
       "      <th>Churn</th>\n",
       "      <th>Tenure</th>\n",
       "      <th>CityTier</th>\n",
       "      <th>WarehouseToHome</th>\n",
       "      <th>HourSpendOnApp</th>\n",
       "      <th>NumberOfDeviceRegistered</th>\n",
       "      <th>SatisfactionScore</th>\n",
       "      <th>NumberOfAddress</th>\n",
       "      <th>Complain</th>\n",
       "      <th>OrderAmountHikeFromlastYear</th>\n",
       "      <th>CouponUsed</th>\n",
       "      <th>OrderCount</th>\n",
       "      <th>DaySinceLastOrder</th>\n",
       "      <th>CashbackAmount</th>\n",
       "      <th>Unnamed: 20</th>\n",
       "      <th>Unnamed: 21</th>\n",
       "      <th>Unnamed: 23</th>\n",
       "    </tr>\n",
       "  </thead>\n",
       "  <tbody>\n",
       "    <tr>\n",
       "      <th>count</th>\n",
       "      <td>5630.000000</td>\n",
       "      <td>5630.000000</td>\n",
       "      <td>5366.000000</td>\n",
       "      <td>5630.000000</td>\n",
       "      <td>5379.000000</td>\n",
       "      <td>5375.000000</td>\n",
       "      <td>5630.000000</td>\n",
       "      <td>5630.000000</td>\n",
       "      <td>5630.000000</td>\n",
       "      <td>5630.000000</td>\n",
       "      <td>5365.000000</td>\n",
       "      <td>5374.000000</td>\n",
       "      <td>5372.000000</td>\n",
       "      <td>5323.000000</td>\n",
       "      <td>5630.000000</td>\n",
       "      <td>0.0</td>\n",
       "      <td>0.0</td>\n",
       "      <td>2.000000</td>\n",
       "    </tr>\n",
       "    <tr>\n",
       "      <th>mean</th>\n",
       "      <td>52815.500000</td>\n",
       "      <td>0.168384</td>\n",
       "      <td>10.189899</td>\n",
       "      <td>1.654707</td>\n",
       "      <td>15.639896</td>\n",
       "      <td>2.931535</td>\n",
       "      <td>3.688988</td>\n",
       "      <td>3.066785</td>\n",
       "      <td>4.214032</td>\n",
       "      <td>0.284902</td>\n",
       "      <td>15.707922</td>\n",
       "      <td>1.751023</td>\n",
       "      <td>3.008004</td>\n",
       "      <td>4.543491</td>\n",
       "      <td>177.223030</td>\n",
       "      <td>NaN</td>\n",
       "      <td>NaN</td>\n",
       "      <td>2815.500000</td>\n",
       "    </tr>\n",
       "    <tr>\n",
       "      <th>std</th>\n",
       "      <td>1625.385339</td>\n",
       "      <td>0.374240</td>\n",
       "      <td>8.557241</td>\n",
       "      <td>0.915389</td>\n",
       "      <td>8.531475</td>\n",
       "      <td>0.721926</td>\n",
       "      <td>1.023999</td>\n",
       "      <td>1.380194</td>\n",
       "      <td>2.583586</td>\n",
       "      <td>0.451408</td>\n",
       "      <td>3.675485</td>\n",
       "      <td>1.894621</td>\n",
       "      <td>2.939680</td>\n",
       "      <td>3.654433</td>\n",
       "      <td>49.207036</td>\n",
       "      <td>NaN</td>\n",
       "      <td>NaN</td>\n",
       "      <td>2639.629614</td>\n",
       "    </tr>\n",
       "    <tr>\n",
       "      <th>min</th>\n",
       "      <td>50001.000000</td>\n",
       "      <td>0.000000</td>\n",
       "      <td>0.000000</td>\n",
       "      <td>1.000000</td>\n",
       "      <td>5.000000</td>\n",
       "      <td>0.000000</td>\n",
       "      <td>1.000000</td>\n",
       "      <td>1.000000</td>\n",
       "      <td>1.000000</td>\n",
       "      <td>0.000000</td>\n",
       "      <td>11.000000</td>\n",
       "      <td>0.000000</td>\n",
       "      <td>1.000000</td>\n",
       "      <td>0.000000</td>\n",
       "      <td>0.000000</td>\n",
       "      <td>NaN</td>\n",
       "      <td>NaN</td>\n",
       "      <td>949.000000</td>\n",
       "    </tr>\n",
       "    <tr>\n",
       "      <th>25%</th>\n",
       "      <td>51408.250000</td>\n",
       "      <td>0.000000</td>\n",
       "      <td>2.000000</td>\n",
       "      <td>1.000000</td>\n",
       "      <td>9.000000</td>\n",
       "      <td>2.000000</td>\n",
       "      <td>3.000000</td>\n",
       "      <td>2.000000</td>\n",
       "      <td>2.000000</td>\n",
       "      <td>0.000000</td>\n",
       "      <td>13.000000</td>\n",
       "      <td>1.000000</td>\n",
       "      <td>1.000000</td>\n",
       "      <td>2.000000</td>\n",
       "      <td>145.770000</td>\n",
       "      <td>NaN</td>\n",
       "      <td>NaN</td>\n",
       "      <td>1882.250000</td>\n",
       "    </tr>\n",
       "    <tr>\n",
       "      <th>50%</th>\n",
       "      <td>52815.500000</td>\n",
       "      <td>0.000000</td>\n",
       "      <td>9.000000</td>\n",
       "      <td>1.000000</td>\n",
       "      <td>14.000000</td>\n",
       "      <td>3.000000</td>\n",
       "      <td>4.000000</td>\n",
       "      <td>3.000000</td>\n",
       "      <td>3.000000</td>\n",
       "      <td>0.000000</td>\n",
       "      <td>15.000000</td>\n",
       "      <td>1.000000</td>\n",
       "      <td>2.000000</td>\n",
       "      <td>3.000000</td>\n",
       "      <td>163.280000</td>\n",
       "      <td>NaN</td>\n",
       "      <td>NaN</td>\n",
       "      <td>2815.500000</td>\n",
       "    </tr>\n",
       "    <tr>\n",
       "      <th>75%</th>\n",
       "      <td>54222.750000</td>\n",
       "      <td>0.000000</td>\n",
       "      <td>16.000000</td>\n",
       "      <td>3.000000</td>\n",
       "      <td>20.000000</td>\n",
       "      <td>3.000000</td>\n",
       "      <td>4.000000</td>\n",
       "      <td>4.000000</td>\n",
       "      <td>6.000000</td>\n",
       "      <td>1.000000</td>\n",
       "      <td>18.000000</td>\n",
       "      <td>2.000000</td>\n",
       "      <td>3.000000</td>\n",
       "      <td>7.000000</td>\n",
       "      <td>196.392500</td>\n",
       "      <td>NaN</td>\n",
       "      <td>NaN</td>\n",
       "      <td>3748.750000</td>\n",
       "    </tr>\n",
       "    <tr>\n",
       "      <th>max</th>\n",
       "      <td>55630.000000</td>\n",
       "      <td>1.000000</td>\n",
       "      <td>61.000000</td>\n",
       "      <td>3.000000</td>\n",
       "      <td>127.000000</td>\n",
       "      <td>5.000000</td>\n",
       "      <td>6.000000</td>\n",
       "      <td>5.000000</td>\n",
       "      <td>22.000000</td>\n",
       "      <td>1.000000</td>\n",
       "      <td>26.000000</td>\n",
       "      <td>16.000000</td>\n",
       "      <td>16.000000</td>\n",
       "      <td>46.000000</td>\n",
       "      <td>324.990000</td>\n",
       "      <td>NaN</td>\n",
       "      <td>NaN</td>\n",
       "      <td>4682.000000</td>\n",
       "    </tr>\n",
       "  </tbody>\n",
       "</table>\n",
       "</div>"
      ],
      "text/plain": [
       "         CustomerID        Churn       Tenure     CityTier  WarehouseToHome  \\\n",
       "count   5630.000000  5630.000000  5366.000000  5630.000000      5379.000000   \n",
       "mean   52815.500000     0.168384    10.189899     1.654707        15.639896   \n",
       "std     1625.385339     0.374240     8.557241     0.915389         8.531475   \n",
       "min    50001.000000     0.000000     0.000000     1.000000         5.000000   \n",
       "25%    51408.250000     0.000000     2.000000     1.000000         9.000000   \n",
       "50%    52815.500000     0.000000     9.000000     1.000000        14.000000   \n",
       "75%    54222.750000     0.000000    16.000000     3.000000        20.000000   \n",
       "max    55630.000000     1.000000    61.000000     3.000000       127.000000   \n",
       "\n",
       "       HourSpendOnApp  NumberOfDeviceRegistered  SatisfactionScore  \\\n",
       "count     5375.000000               5630.000000        5630.000000   \n",
       "mean         2.931535                  3.688988           3.066785   \n",
       "std          0.721926                  1.023999           1.380194   \n",
       "min          0.000000                  1.000000           1.000000   \n",
       "25%          2.000000                  3.000000           2.000000   \n",
       "50%          3.000000                  4.000000           3.000000   \n",
       "75%          3.000000                  4.000000           4.000000   \n",
       "max          5.000000                  6.000000           5.000000   \n",
       "\n",
       "       NumberOfAddress     Complain  OrderAmountHikeFromlastYear   CouponUsed  \\\n",
       "count      5630.000000  5630.000000                  5365.000000  5374.000000   \n",
       "mean          4.214032     0.284902                    15.707922     1.751023   \n",
       "std           2.583586     0.451408                     3.675485     1.894621   \n",
       "min           1.000000     0.000000                    11.000000     0.000000   \n",
       "25%           2.000000     0.000000                    13.000000     1.000000   \n",
       "50%           3.000000     0.000000                    15.000000     1.000000   \n",
       "75%           6.000000     1.000000                    18.000000     2.000000   \n",
       "max          22.000000     1.000000                    26.000000    16.000000   \n",
       "\n",
       "        OrderCount  DaySinceLastOrder  CashbackAmount  Unnamed: 20  \\\n",
       "count  5372.000000        5323.000000     5630.000000          0.0   \n",
       "mean      3.008004           4.543491      177.223030          NaN   \n",
       "std       2.939680           3.654433       49.207036          NaN   \n",
       "min       1.000000           0.000000        0.000000          NaN   \n",
       "25%       1.000000           2.000000      145.770000          NaN   \n",
       "50%       2.000000           3.000000      163.280000          NaN   \n",
       "75%       3.000000           7.000000      196.392500          NaN   \n",
       "max      16.000000          46.000000      324.990000          NaN   \n",
       "\n",
       "       Unnamed: 21  Unnamed: 23  \n",
       "count          0.0     2.000000  \n",
       "mean           NaN  2815.500000  \n",
       "std            NaN  2639.629614  \n",
       "min            NaN   949.000000  \n",
       "25%            NaN  1882.250000  \n",
       "50%            NaN  2815.500000  \n",
       "75%            NaN  3748.750000  \n",
       "max            NaN  4682.000000  "
      ]
     },
     "execution_count": 232,
     "metadata": {},
     "output_type": "execute_result"
    }
   ],
   "source": [
    "df.describe()"
   ]
  },
  {
   "cell_type": "markdown",
   "id": "bb914e1b",
   "metadata": {},
   "source": [
    "Terdapat 5630 data customer yang ada di data set. Dan tidak ada data duplikat"
   ]
  },
  {
   "cell_type": "code",
   "execution_count": 233,
   "id": "b3407b21",
   "metadata": {},
   "outputs": [
    {
     "data": {
      "text/plain": [
       "Unnamed: 21                    100.000000\n",
       "Unnamed: 20                    100.000000\n",
       "Unnamed: 23                     99.964476\n",
       "curn                            99.964476\n",
       "DaySinceLastOrder                5.452931\n",
       "OrderAmountHikeFromlastYear      4.706927\n",
       "Tenure                           4.689165\n",
       "OrderCount                       4.582593\n",
       "CouponUsed                       4.547069\n",
       "HourSpendOnApp                   4.529307\n",
       "WarehouseToHome                  4.458259\n",
       "Complain                         0.000000\n",
       "CashbackAmount                   0.000000\n",
       "CustomerID                       0.000000\n",
       "NumberOfAddress                  0.000000\n",
       "Churn                            0.000000\n",
       "SatisfactionScore                0.000000\n",
       "PreferedOrderCat                 0.000000\n",
       "NumberOfDeviceRegistered         0.000000\n",
       "Gender                           0.000000\n",
       "PreferredPaymentMode             0.000000\n",
       "CityTier                         0.000000\n",
       "PreferredLoginDevice             0.000000\n",
       "MaritalStatus                    0.000000\n",
       "dtype: float64"
      ]
     },
     "execution_count": 233,
     "metadata": {},
     "output_type": "execute_result"
    }
   ],
   "source": [
    "# Pengecekan rata-rata missing value pada setiap variable\n",
    "percentage_of_null_values = ((df.isnull().sum())*100/len(df)).sort_values(ascending = False)\n",
    "percentage_of_null_values"
   ]
  },
  {
   "cell_type": "markdown",
   "id": "637f9a85",
   "metadata": {},
   "source": [
    "Terdapat 7 variable memiliki missing value dan semua value yang kosong berada dibawah 6%. Serta 4 variable memiliki value kosong diatas 10%."
   ]
  },
  {
   "cell_type": "code",
   "execution_count": 234,
   "id": "73fd170f",
   "metadata": {},
   "outputs": [
    {
     "data": {
      "text/plain": [
       "<AxesSubplot: >"
      ]
     },
     "execution_count": 234,
     "metadata": {},
     "output_type": "execute_result"
    },
    {
     "data": {
      "image/png": "[encoded data removed]",
      "text/plain": [
       "<Figure size 800x800 with 2 Axes>"
      ]
     },
     "metadata": {},
     "output_type": "display_data"
    }
   ],
   "source": [
    "# Sebaran missing value di dalam data (subplot)\n",
    "plt.figure(figsize=(8,8))\n",
    "sns.heatmap(df[['Tenure','WarehouseToHome','HourSpendOnApp','OrderAmountHikeFromlastYear','CouponUsed','OrderCount','DaySinceLastOrder','Unnamed: 20','Unnamed: 21','curn','Unnamed: 23']].isna())"
   ]
  },
  {
   "cell_type": "markdown",
   "id": "7e912123",
   "metadata": {},
   "source": [
    "Terlihat dari subplot tersebut, bahwa kolom `Tenure`, `WarehouseToHome`, `HourSpendOnApp`, `OrderAmountHikeFromlastYear`, `CouponUSed`, dan `DaySinceLastOrder` memiliki missing values/data yang hilang.\n",
    "\n",
    "Kemudian berdasarkan subplot tersebut juga, kolom `DaySinceLastOrder` adalah kolom yang memiliki data yang hilang terbanyak."
   ]
  },
  {
   "cell_type": "code",
   "execution_count": 235,
   "id": "99de3aeb",
   "metadata": {},
   "outputs": [],
   "source": [
    "df.dropna(subset= ['Tenure','WarehouseToHome','HourSpendOnApp','OrderAmountHikeFromlastYear','CouponUsed','OrderCount','DaySinceLastOrder'], inplace=True)"
   ]
  },
  {
   "cell_type": "code",
   "execution_count": 236,
   "id": "ef1a87ea",
   "metadata": {},
   "outputs": [],
   "source": [
    "df.drop(columns=['Unnamed: 20','Unnamed: 21','curn','Unnamed: 23','CustomerID'],inplace=True)"
   ]
  },
  {
   "cell_type": "markdown",
   "id": "a1329469",
   "metadata": {},
   "source": [
    "Variable yang missing value nya dibawah 10% dihapus barisnya yang kosong tersebut, dan variable yang missing  value nya diatas 10% maka dihapus kolomnya. Serta kolom `CustomerID` dihilangkan juga karena hanya berisi ID unik Customer."
   ]
  },
  {
   "cell_type": "code",
   "execution_count": 237,
   "id": "f360e82b",
   "metadata": {},
   "outputs": [
    {
     "data": {
      "text/plain": [
       "Churn                          0.0\n",
       "Tenure                         0.0\n",
       "PreferredLoginDevice           0.0\n",
       "CityTier                       0.0\n",
       "WarehouseToHome                0.0\n",
       "PreferredPaymentMode           0.0\n",
       "Gender                         0.0\n",
       "HourSpendOnApp                 0.0\n",
       "NumberOfDeviceRegistered       0.0\n",
       "PreferedOrderCat               0.0\n",
       "SatisfactionScore              0.0\n",
       "MaritalStatus                  0.0\n",
       "NumberOfAddress                0.0\n",
       "Complain                       0.0\n",
       "OrderAmountHikeFromlastYear    0.0\n",
       "CouponUsed                     0.0\n",
       "OrderCount                     0.0\n",
       "DaySinceLastOrder              0.0\n",
       "CashbackAmount                 0.0\n",
       "dtype: float64"
      ]
     },
     "execution_count": 237,
     "metadata": {},
     "output_type": "execute_result"
    }
   ],
   "source": [
    "# persentase missing value di tiap kolom\n",
    "df.isna().sum()/df.shape[0]*100"
   ]
  },
  {
   "cell_type": "code",
   "execution_count": 238,
   "id": "8b929c61",
   "metadata": {},
   "outputs": [
    {
     "name": "stdout",
     "output_type": "stream",
     "text": [
      "<class 'pandas.core.frame.DataFrame'>\n",
      "Int64Index: 3774 entries, 0 to 5629\n",
      "Data columns (total 19 columns):\n",
      " #   Column                       Non-Null Count  Dtype  \n",
      "---  ------                       --------------  -----  \n",
      " 0   Churn                        3774 non-null   int64  \n",
      " 1   Tenure                       3774 non-null   float64\n",
      " 2   PreferredLoginDevice         3774 non-null   object \n",
      " 3   CityTier                     3774 non-null   int64  \n",
      " 4   WarehouseToHome              3774 non-null   float64\n",
      " 5   PreferredPaymentMode         3774 non-null   object \n",
      " 6   Gender                       3774 non-null   object \n",
      " 7   HourSpendOnApp               3774 non-null   float64\n",
      " 8   NumberOfDeviceRegistered     3774 non-null   int64  \n",
      " 9   PreferedOrderCat             3774 non-null   object \n",
      " 10  SatisfactionScore            3774 non-null   int64  \n",
      " 11  MaritalStatus                3774 non-null   object \n",
      " 12  NumberOfAddress              3774 non-null   int64  \n",
      " 13  Complain                     3774 non-null   int64  \n",
      " 14  OrderAmountHikeFromlastYear  3774 non-null   float64\n",
      " 15  CouponUsed                   3774 non-null   float64\n",
      " 16  OrderCount                   3774 non-null   float64\n",
      " 17  DaySinceLastOrder            3774 non-null   float64\n",
      " 18  CashbackAmount               3774 non-null   float64\n",
      "dtypes: float64(8), int64(6), object(5)\n",
      "memory usage: 589.7+ KB\n"
     ]
    }
   ],
   "source": [
    "df.info()"
   ]
  },
  {
   "cell_type": "markdown",
   "id": "b0091cfe",
   "metadata": {},
   "source": [
    "Data yang tadinya ada 5630 sebelum dilakukan data cleaning, sekarang menjadi 3774 data customer pada dataset."
   ]
  },
  {
   "cell_type": "markdown",
   "id": "462e588f",
   "metadata": {},
   "source": [
    "# Business Question"
   ]
  },
  {
   "cell_type": "markdown",
   "id": "5d1b32b4",
   "metadata": {},
   "source": [
    "## 1. Berapa jumlah customer yang churn?"
   ]
  },
  {
   "cell_type": "code",
   "execution_count": 239,
   "id": "088797cc",
   "metadata": {},
   "outputs": [
    {
     "data": {
      "image/png": "[encoded data removed]",
      "text/plain": [
       "<Figure size 640x480 with 1 Axes>"
      ]
     },
     "metadata": {},
     "output_type": "display_data"
    },
    {
     "data": {
      "text/plain": [
       "0    3143\n",
       "1     631\n",
       "Name: Churn, dtype: int64"
      ]
     },
     "execution_count": 239,
     "metadata": {},
     "output_type": "execute_result"
    }
   ],
   "source": [
    "fig = plt.figure()\n",
    "ax = fig.add_axes([0,0,1,1])\n",
    "ax.axis('equal')\n",
    "labels = ['No','Yes']\n",
    "churn = df.Churn.value_counts()\n",
    "ax.pie(churn, labels=labels, autopct='%.0f%%')\n",
    "plt.title(\"Presentase Churn\", fontsize=16)\n",
    "plt.show()\n",
    "df['Churn'].value_counts()"
   ]
  },
  {
   "cell_type": "markdown",
   "id": "c5301109",
   "metadata": {},
   "source": [
    "### Insight : \n",
    "Berdasarkan grafik diatas presentase customer yg churn ada 83%, atau secara jumlah ada 631 customer yang churn dan 17% atau 3141 customer yang tetap bertahan, hal tersebut merupakan kasus data imbalance. Menurut kami presentase customer churn sudah cukup besar sehingga perlu diminimalisir karna akan menimbulkan kerugian bagi perusahaan."
   ]
  },
  {
   "cell_type": "markdown",
   "id": "7baede19",
   "metadata": {},
   "source": [
    "## 2. Apa perangkat untuk login yang paling banyak digunakan oleh customer?"
   ]
  },
  {
   "cell_type": "code",
   "execution_count": 240,
   "id": "7ae1859a",
   "metadata": {},
   "outputs": [
    {
     "data": {
      "text/plain": [
       "Mobile Phone    1936\n",
       "Computer        1111\n",
       "Phone            727\n",
       "Name: PreferredLoginDevice, dtype: int64"
      ]
     },
     "execution_count": 240,
     "metadata": {},
     "output_type": "execute_result"
    }
   ],
   "source": [
    "df['PreferredLoginDevice'].value_counts()"
   ]
  },
  {
   "cell_type": "markdown",
   "id": "8e20fc7a",
   "metadata": {},
   "source": [
    "Karena Mobile phone dan Phone itu merupakan perangkat login yang sama maka disatukan saja value nya."
   ]
  },
  {
   "cell_type": "code",
   "execution_count": 241,
   "id": "8cdb93da",
   "metadata": {},
   "outputs": [],
   "source": [
    "df.loc[df['PreferredLoginDevice'] == 'Phone', 'PreferredLoginDevice' ] = 'Mobile Phone'"
   ]
  },
  {
   "cell_type": "code",
   "execution_count": 242,
   "id": "05afee2a",
   "metadata": {},
   "outputs": [
    {
     "data": {
      "image/png": "[encoded data removed]",
      "text/plain": [
       "<Figure size 500x600 with 1 Axes>"
      ]
     },
     "metadata": {},
     "output_type": "display_data"
    }
   ],
   "source": [
    "plt.figure(figsize = (5,6))\n",
    "sns.set_style('darkgrid')\n",
    "sns.countplot(x  = 'PreferredLoginDevice',  data = df, palette = 'Pastel2', hue = 'Churn' );"
   ]
  },
  {
   "cell_type": "code",
   "execution_count": 243,
   "id": "7626591b",
   "metadata": {},
   "outputs": [
    {
     "data": {
      "text/plain": [
       "Mobile Phone    2663\n",
       "Computer        1111\n",
       "Name: PreferredLoginDevice, dtype: int64"
      ]
     },
     "execution_count": 243,
     "metadata": {},
     "output_type": "execute_result"
    }
   ],
   "source": [
    "df['PreferredLoginDevice'].value_counts()"
   ]
  },
  {
   "cell_type": "markdown",
   "id": "7a15daba",
   "metadata": {},
   "source": [
    "## Insight :\n",
    "Mayoritas customer menggunakan Mobile phone untuk login ke ecommerce. Sehingga UX maupun UI harus ditingkatkan pada versi mobile nya demi kenyamanan customer saat menggunakan aplikasi."
   ]
  },
  {
   "cell_type": "markdown",
   "id": "e289d255",
   "metadata": {},
   "source": [
    "## 3. Metode pembayaran apa yang paling banyak digunakan oleh customer?"
   ]
  },
  {
   "cell_type": "code",
   "execution_count": 247,
   "id": "75c300ec",
   "metadata": {},
   "outputs": [
    {
     "data": {
      "text/plain": [
       "Debit Card          1538\n",
       "Credit Card         1159\n",
       "E wallet             443\n",
       "Cash on Delivery     349\n",
       "UPI                  285\n",
       "Name: PreferredPaymentMode, dtype: int64"
      ]
     },
     "execution_count": 247,
     "metadata": {},
     "output_type": "execute_result"
    }
   ],
   "source": [
    "df['PreferredPaymentMode'].value_counts()"
   ]
  },
  {
   "cell_type": "markdown",
   "id": "c70adbcc",
   "metadata": {},
   "source": [
    "Credit Card sama dengan CC, dan COD sama dengan Cash on Delivery maka di merge."
   ]
  },
  {
   "cell_type": "code",
   "execution_count": 254,
   "id": "7d738103",
   "metadata": {},
   "outputs": [],
   "source": [
    "df.loc[df['PreferredPaymentMode'] == 'COD', 'PreferredPaymentMode' ] = 'Cash on Delivery'   # uses loc function\n",
    "df.loc[df['PreferredPaymentMode'] == 'CC', 'PreferredPaymentMode' ] = 'Credit Card'"
   ]
  },
  {
   "cell_type": "code",
   "execution_count": 255,
   "id": "5ce580b5",
   "metadata": {},
   "outputs": [
    {
     "data": {
      "application/vnd.plotly.v1+json": {
       "config": {
        "plotlyServerURL": "https://plot.ly"
       },
       "data": [
        {
         "branchvalues": "total",
         "domain": {
          "x": [
           0,
           1
          ],
          "y": [
           0,
           1
          ]
         },
         "hovertemplate": "labels=%{label}<br>count=%{value}<br>parent=%{parent}<br>id=%{id}<extra></extra>",
         "ids": [
          "Cash on Delivery",
          "Credit Card",
          "Debit Card",
          "E wallet",
          "UPI"
         ],
         "labels": [
          "Cash on Delivery",
          "Credit Card",
          "Debit Card",
          "E wallet",
          "UPI"
         ],
         "name": "",
         "parents": [
          "",
          "",
          "",
          "",
          ""
         ],
         "type": "treemap",
         "values": [
          349,
          1159,
          1538,
          443,
          285
         ]
        }
       ],
       "layout": {
        "legend": {
         "tracegroupgap": 0
        },
        "margin": {
         "t": 60
        },
        "template": {
         "data": {
          "bar": [
           {
            "error_x": {
             "color": "#2a3f5f"
            },
            "error_y": {
             "color": "#2a3f5f"
            },
            "marker": {
             "line": {
              "color": "#E5ECF6",
              "width": 0.5
             },
             "pattern": {
              "fillmode": "overlay",
              "size": 10,
              "solidity": 0.2
             }
            },
            "type": "bar"
           }
          ],
          "barpolar": [
           {
            "marker": {
             "line": {
              "color": "#E5ECF6",
              "width": 0.5
             },
             "pattern": {
              "fillmode": "overlay",
              "size": 10,
              "solidity": 0.2
             }
            },
            "type": "barpolar"
           }
          ],
          "carpet": [
           {
            "aaxis": {
             "endlinecolor": "#2a3f5f",
             "gridcolor": "white",
             "linecolor": "white",
             "minorgridcolor": "white",
             "startlinecolor": "#2a3f5f"
            },
            "baxis": {
             "endlinecolor": "#2a3f5f",
             "gridcolor": "white",
             "linecolor": "white",
             "minorgridcolor": "white",
             "startlinecolor": "#2a3f5f"
            },
            "type": "carpet"
           }
          ],
          "choropleth": [
           {
            "colorbar": {
             "outlinewidth": 0,
             "ticks": ""
            },
            "type": "choropleth"
           }
          ],
          "contour": [
           {
            "colorbar": {
             "outlinewidth": 0,
             "ticks": ""
            },
            "colorscale": [
             [
              0,
              "#0d0887"
             ],
             [
              0.1111111111111111,
              "#46039f"
             ],
             [
              0.2222222222222222,
              "#7201a8"
             ],
             [
              0.3333333333333333,
              "#9c179e"
             ],
             [
              0.4444444444444444,
              "#bd3786"
             ],
             [
              0.5555555555555556,
              "#d8576b"
             ],
             [
              0.6666666666666666,
              "#ed7953"
             ],
             [
              0.7777777777777778,
              "#fb9f3a"
             ],
             [
              0.8888888888888888,
              "#fdca26"
             ],
             [
              1,
              "#f0f921"
             ]
            ],
            "type": "contour"
           }
          ],
          "contourcarpet": [
           {
            "colorbar": {
             "outlinewidth": 0,
             "ticks": ""
            },
            "type": "contourcarpet"
           }
          ],
          "heatmap": [
           {
            "colorbar": {
             "outlinewidth": 0,
             "ticks": ""
            },
            "colorscale": [
             [
              0,
              "#0d0887"
             ],
             [
              0.1111111111111111,
              "#46039f"
             ],
             [
              0.2222222222222222,
              "#7201a8"
             ],
             [
              0.3333333333333333,
              "#9c179e"
             ],
             [
              0.4444444444444444,
              "#bd3786"
             ],
             [
              0.5555555555555556,
              "#d8576b"
             ],
             [
              0.6666666666666666,
              "#ed7953"
             ],
             [
              0.7777777777777778,
              "#fb9f3a"
             ],
             [
              0.8888888888888888,
              "#fdca26"
             ],
             [
              1,
              "#f0f921"
             ]
            ],
            "type": "heatmap"
           }
          ],
          "heatmapgl": [
           {
            "colorbar": {
             "outlinewidth": 0,
             "ticks": ""
            },
            "colorscale": [
             [
              0,
              "#0d0887"
             ],
             [
              0.1111111111111111,
              "#46039f"
             ],
             [
              0.2222222222222222,
              "#7201a8"
             ],
             [
              0.3333333333333333,
              "#9c179e"
             ],
             [
              0.4444444444444444,
              "#bd3786"
             ],
             [
              0.5555555555555556,
              "#d8576b"
             ],
             [
              0.6666666666666666,
              "#ed7953"
             ],
             [
              0.7777777777777778,
              "#fb9f3a"
             ],
             [
              0.8888888888888888,
              "#fdca26"
             ],
             [
              1,
              "#f0f921"
             ]
            ],
            "type": "heatmapgl"
           }
          ],
          "histogram": [
           {
            "marker": {
             "pattern": {
              "fillmode": "overlay",
              "size": 10,
              "solidity": 0.2
             }
            },
            "type": "histogram"
           }
          ],
          "histogram2d": [
           {
            "colorbar": {
             "outlinewidth": 0,
             "ticks": ""
            },
            "colorscale": [
             [
              0,
              "#0d0887"
             ],
             [
              0.1111111111111111,
              "#46039f"
             ],
             [
              0.2222222222222222,
              "#7201a8"
             ],
             [
              0.3333333333333333,
              "#9c179e"
             ],
             [
              0.4444444444444444,
              "#bd3786"
             ],
             [
              0.5555555555555556,
              "#d8576b"
             ],
             [
              0.6666666666666666,
              "#ed7953"
             ],
             [
              0.7777777777777778,
              "#fb9f3a"
             ],
             [
              0.8888888888888888,
              "#fdca26"
             ],
             [
              1,
              "#f0f921"
             ]
            ],
            "type": "histogram2d"
           }
          ],
          "histogram2dcontour": [
           {
            "colorbar": {
             "outlinewidth": 0,
             "ticks": ""
            },
            "colorscale": [
             [
              0,
              "#0d0887"
             ],
             [
              0.1111111111111111,
              "#46039f"
             ],
             [
              0.2222222222222222,
              "#7201a8"
             ],
             [
              0.3333333333333333,
              "#9c179e"
             ],
             [
              0.4444444444444444,
              "#bd3786"
             ],
             [
              0.5555555555555556,
              "#d8576b"
             ],
             [
              0.6666666666666666,
              "#ed7953"
             ],
             [
              0.7777777777777778,
              "#fb9f3a"
             ],
             [
              0.8888888888888888,
              "#fdca26"
             ],
             [
              1,
              "#f0f921"
             ]
            ],
            "type": "histogram2dcontour"
           }
          ],
          "mesh3d": [
           {
            "colorbar": {
             "outlinewidth": 0,
             "ticks": ""
            },
            "type": "mesh3d"
           }
          ],
          "parcoords": [
           {
            "line": {
             "colorbar": {
              "outlinewidth": 0,
              "ticks": ""
             }
            },
            "type": "parcoords"
           }
          ],
          "pie": [
           {
            "automargin": true,
            "type": "pie"
           }
          ],
          "scatter": [
           {
            "fillpattern": {
             "fillmode": "overlay",
             "size": 10,
             "solidity": 0.2
            },
            "type": "scatter"
           }
          ],
          "scatter3d": [
           {
            "line": {
             "colorbar": {
              "outlinewidth": 0,
              "ticks": ""
             }
            },
            "marker": {
             "colorbar": {
              "outlinewidth": 0,
              "ticks": ""
             }
            },
            "type": "scatter3d"
           }
          ],
          "scattercarpet": [
           {
            "marker": {
             "colorbar": {
              "outlinewidth": 0,
              "ticks": ""
             }
            },
            "type": "scattercarpet"
           }
          ],
          "scattergeo": [
           {
            "marker": {
             "colorbar": {
              "outlinewidth": 0,
              "ticks": ""
             }
            },
            "type": "scattergeo"
           }
          ],
          "scattergl": [
           {
            "marker": {
             "colorbar": {
              "outlinewidth": 0,
              "ticks": ""
             }
            },
            "type": "scattergl"
           }
          ],
          "scattermapbox": [
           {
            "marker": {
             "colorbar": {
              "outlinewidth": 0,
              "ticks": ""
             }
            },
            "type": "scattermapbox"
           }
          ],
          "scatterpolar": [
           {
            "marker": {
             "colorbar": {
              "outlinewidth": 0,
              "ticks": ""
             }
            },
            "type": "scatterpolar"
           }
          ],
          "scatterpolargl": [
           {
            "marker": {
             "colorbar": {
              "outlinewidth": 0,
              "ticks": ""
             }
            },
            "type": "scatterpolargl"
           }
          ],
          "scatterternary": [
           {
            "marker": {
             "colorbar": {
              "outlinewidth": 0,
              "ticks": ""
             }
            },
            "type": "scatterternary"
           }
          ],
          "surface": [
           {
            "colorbar": {
             "outlinewidth": 0,
             "ticks": ""
            },
            "colorscale": [
             [
              0,
              "#0d0887"
             ],
             [
              0.1111111111111111,
              "#46039f"
             ],
             [
              0.2222222222222222,
              "#7201a8"
             ],
             [
              0.3333333333333333,
              "#9c179e"
             ],
             [
              0.4444444444444444,
              "#bd3786"
             ],
             [
              0.5555555555555556,
              "#d8576b"
             ],
             [
              0.6666666666666666,
              "#ed7953"
             ],
             [
              0.7777777777777778,
              "#fb9f3a"
             ],
             [
              0.8888888888888888,
              "#fdca26"
             ],
             [
              1,
              "#f0f921"
             ]
            ],
            "type": "surface"
           }
          ],
          "table": [
           {
            "cells": {
             "fill": {
              "color": "#EBF0F8"
             },
             "line": {
              "color": "white"
             }
            },
            "header": {
             "fill": {
              "color": "#C8D4E3"
             },
             "line": {
              "color": "white"
             }
            },
            "type": "table"
           }
          ]
         },
         "layout": {
          "annotationdefaults": {
           "arrowcolor": "#2a3f5f",
           "arrowhead": 0,
           "arrowwidth": 1
          },
          "autotypenumbers": "strict",
          "coloraxis": {
           "colorbar": {
            "outlinewidth": 0,
            "ticks": ""
           }
          },
          "colorscale": {
           "diverging": [
            [
             0,
             "#8e0152"
            ],
            [
             0.1,
             "#c51b7d"
            ],
            [
             0.2,
             "#de77ae"
            ],
            [
             0.3,
             "#f1b6da"
            ],
            [
             0.4,
             "#fde0ef"
            ],
            [
             0.5,
             "#f7f7f7"
            ],
            [
             0.6,
             "#e6f5d0"
            ],
            [
             0.7,
             "#b8e186"
            ],
            [
             0.8,
             "#7fbc41"
            ],
            [
             0.9,
             "#4d9221"
            ],
            [
             1,
             "#276419"
            ]
           ],
           "sequential": [
            [
             0,
             "#0d0887"
            ],
            [
             0.1111111111111111,
             "#46039f"
            ],
            [
             0.2222222222222222,
             "#7201a8"
            ],
            [
             0.3333333333333333,
             "#9c179e"
            ],
            [
             0.4444444444444444,
             "#bd3786"
            ],
            [
             0.5555555555555556,
             "#d8576b"
            ],
            [
             0.6666666666666666,
             "#ed7953"
            ],
            [
             0.7777777777777778,
             "#fb9f3a"
            ],
            [
             0.8888888888888888,
             "#fdca26"
            ],
            [
             1,
             "#f0f921"
            ]
           ],
           "sequentialminus": [
            [
             0,
             "#0d0887"
            ],
            [
             0.1111111111111111,
             "#46039f"
            ],
            [
             0.2222222222222222,
             "#7201a8"
            ],
            [
             0.3333333333333333,
             "#9c179e"
            ],
            [
             0.4444444444444444,
             "#bd3786"
            ],
            [
             0.5555555555555556,
             "#d8576b"
            ],
            [
             0.6666666666666666,
             "#ed7953"
            ],
            [
             0.7777777777777778,
             "#fb9f3a"
            ],
            [
             0.8888888888888888,
             "#fdca26"
            ],
            [
             1,
             "#f0f921"
            ]
           ]
          },
          "colorway": [
           "#636efa",
           "#EF553B",
           "#00cc96",
           "#ab63fa",
           "#FFA15A",
           "#19d3f3",
           "#FF6692",
           "#B6E880",
           "#FF97FF",
           "#FECB52"
          ],
          "font": {
           "color": "#2a3f5f"
          },
          "geo": {
           "bgcolor": "white",
           "lakecolor": "white",
           "landcolor": "#E5ECF6",
           "showlakes": true,
           "showland": true,
           "subunitcolor": "white"
          },
          "hoverlabel": {
           "align": "left"
          },
          "hovermode": "closest",
          "mapbox": {
           "style": "light"
          },
          "paper_bgcolor": "white",
          "plot_bgcolor": "#E5ECF6",
          "polar": {
           "angularaxis": {
            "gridcolor": "white",
            "linecolor": "white",
            "ticks": ""
           },
           "bgcolor": "#E5ECF6",
           "radialaxis": {
            "gridcolor": "white",
            "linecolor": "white",
            "ticks": ""
           }
          },
          "scene": {
           "xaxis": {
            "backgroundcolor": "#E5ECF6",
            "gridcolor": "white",
            "gridwidth": 2,
            "linecolor": "white",
            "showbackground": true,
            "ticks": "",
            "zerolinecolor": "white"
           },
           "yaxis": {
            "backgroundcolor": "#E5ECF6",
            "gridcolor": "white",
            "gridwidth": 2,
            "linecolor": "white",
            "showbackground": true,
            "ticks": "",
            "zerolinecolor": "white"
           },
           "zaxis": {
            "backgroundcolor": "#E5ECF6",
            "gridcolor": "white",
            "gridwidth": 2,
            "linecolor": "white",
            "showbackground": true,
            "ticks": "",
            "zerolinecolor": "white"
           }
          },
          "shapedefaults": {
           "line": {
            "color": "#2a3f5f"
           }
          },
          "ternary": {
           "aaxis": {
            "gridcolor": "white",
            "linecolor": "white",
            "ticks": ""
           },
           "baxis": {
            "gridcolor": "white",
            "linecolor": "white",
            "ticks": ""
           },
           "bgcolor": "#E5ECF6",
           "caxis": {
            "gridcolor": "white",
            "linecolor": "white",
            "ticks": ""
           }
          },
          "title": {
           "x": 0.05
          },
          "xaxis": {
           "automargin": true,
           "gridcolor": "white",
           "linecolor": "white",
           "ticks": "",
           "title": {
            "standoff": 15
           },
           "zerolinecolor": "white",
           "zerolinewidth": 2
          },
          "yaxis": {
           "automargin": true,
           "gridcolor": "white",
           "linecolor": "white",
           "ticks": "",
           "title": {
            "standoff": 15
           },
           "zerolinecolor": "white",
           "zerolinewidth": 2
          }
         }
        },
        "treemapcolorway": [
         "rgb(133, 92, 117)",
         "rgb(217, 175, 107)",
         "rgb(175, 100, 88)",
         "rgb(115, 111, 76)",
         "rgb(82, 106, 131)",
         "rgb(98, 83, 119)",
         "rgb(104, 133, 92)",
         "rgb(156, 156, 94)",
         "rgb(160, 97, 119)",
         "rgb(140, 120, 93)",
         "rgb(124, 124, 124)"
        ]
       }
      },
      "text/html": [
       "<div>                            <div id=\"bee68c14-0ed8-4df4-a839-6278cde6035c\" class=\"plotly-graph-div\" style=\"height:525px; width:100%;\"></div>            <script type=\"text/javascript\">                require([\"plotly\"], function(Plotly) {                    window.PLOTLYENV=window.PLOTLYENV || {};                                    if (document.getElementById(\"bee68c14-0ed8-4df4-a839-6278cde6035c\")) {                    Plotly.newPlot(                        \"bee68c14-0ed8-4df4-a839-6278cde6035c\",                        [{\"branchvalues\":\"total\",\"domain\":{\"x\":[0.0,1.0],\"y\":[0.0,1.0]},\"hovertemplate\":\"labels=%{label}<br>count=%{value}<br>parent=%{parent}<br>id=%{id}<extra></extra>\",\"ids\":[\"Cash on Delivery\",\"Credit Card\",\"Debit Card\",\"E wallet\",\"UPI\"],\"labels\":[\"Cash on Delivery\",\"Credit Card\",\"Debit Card\",\"E wallet\",\"UPI\"],\"name\":\"\",\"parents\":[\"\",\"\",\"\",\"\",\"\"],\"values\":[349,1159,1538,443,285],\"type\":\"treemap\"}],                        {\"template\":{\"data\":{\"histogram2dcontour\":[{\"type\":\"histogram2dcontour\",\"colorbar\":{\"outlinewidth\":0,\"ticks\":\"\"},\"colorscale\":[[0.0,\"#0d0887\"],[0.1111111111111111,\"#46039f\"],[0.2222222222222222,\"#7201a8\"],[0.3333333333333333,\"#9c179e\"],[0.4444444444444444,\"#bd3786\"],[0.5555555555555556,\"#d8576b\"],[0.6666666666666666,\"#ed7953\"],[0.7777777777777778,\"#fb9f3a\"],[0.8888888888888888,\"#fdca26\"],[1.0,\"#f0f921\"]]}],\"choropleth\":[{\"type\":\"choropleth\",\"colorbar\":{\"outlinewidth\":0,\"ticks\":\"\"}}],\"histogram2d\":[{\"type\":\"histogram2d\",\"colorbar\":{\"outlinewidth\":0,\"ticks\":\"\"},\"colorscale\":[[0.0,\"#0d0887\"],[0.1111111111111111,\"#46039f\"],[0.2222222222222222,\"#7201a8\"],[0.3333333333333333,\"#9c179e\"],[0.4444444444444444,\"#bd3786\"],[0.5555555555555556,\"#d8576b\"],[0.6666666666666666,\"#ed7953\"],[0.7777777777777778,\"#fb9f3a\"],[0.8888888888888888,\"#fdca26\"],[1.0,\"#f0f921\"]]}],\"heatmap\":[{\"type\":\"heatmap\",\"colorbar\":{\"outlinewidth\":0,\"ticks\":\"\"},\"colorscale\":[[0.0,\"#0d0887\"],[0.1111111111111111,\"#46039f\"],[0.2222222222222222,\"#7201a8\"],[0.3333333333333333,\"#9c179e\"],[0.4444444444444444,\"#bd3786\"],[0.5555555555555556,\"#d8576b\"],[0.6666666666666666,\"#ed7953\"],[0.7777777777777778,\"#fb9f3a\"],[0.8888888888888888,\"#fdca26\"],[1.0,\"#f0f921\"]]}],\"heatmapgl\":[{\"type\":\"heatmapgl\",\"colorbar\":{\"outlinewidth\":0,\"ticks\":\"\"},\"colorscale\":[[0.0,\"#0d0887\"],[0.1111111111111111,\"#46039f\"],[0.2222222222222222,\"#7201a8\"],[0.3333333333333333,\"#9c179e\"],[0.4444444444444444,\"#bd3786\"],[0.5555555555555556,\"#d8576b\"],[0.6666666666666666,\"#ed7953\"],[0.7777777777777778,\"#fb9f3a\"],[0.8888888888888888,\"#fdca26\"],[1.0,\"#f0f921\"]]}],\"contourcarpet\":[{\"type\":\"contourcarpet\",\"colorbar\":{\"outlinewidth\":0,\"ticks\":\"\"}}],\"contour\":[{\"type\":\"contour\",\"colorbar\":{\"outlinewidth\":0,\"ticks\":\"\"},\"colorscale\":[[0.0,\"#0d0887\"],[0.1111111111111111,\"#46039f\"],[0.2222222222222222,\"#7201a8\"],[0.3333333333333333,\"#9c179e\"],[0.4444444444444444,\"#bd3786\"],[0.5555555555555556,\"#d8576b\"],[0.6666666666666666,\"#ed7953\"],[0.7777777777777778,\"#fb9f3a\"],[0.8888888888888888,\"#fdca26\"],[1.0,\"#f0f921\"]]}],\"surface\":[{\"type\":\"surface\",\"colorbar\":{\"outlinewidth\":0,\"ticks\":\"\"},\"colorscale\":[[0.0,\"#0d0887\"],[0.1111111111111111,\"#46039f\"],[0.2222222222222222,\"#7201a8\"],[0.3333333333333333,\"#9c179e\"],[0.4444444444444444,\"#bd3786\"],[0.5555555555555556,\"#d8576b\"],[0.6666666666666666,\"#ed7953\"],[0.7777777777777778,\"#fb9f3a\"],[0.8888888888888888,\"#fdca26\"],[1.0,\"#f0f921\"]]}],\"mesh3d\":[{\"type\":\"mesh3d\",\"colorbar\":{\"outlinewidth\":0,\"ticks\":\"\"}}],\"scatter\":[{\"fillpattern\":{\"fillmode\":\"overlay\",\"size\":10,\"solidity\":0.2},\"type\":\"scatter\"}],\"parcoords\":[{\"type\":\"parcoords\",\"line\":{\"colorbar\":{\"outlinewidth\":0,\"ticks\":\"\"}}}],\"scatterpolargl\":[{\"type\":\"scatterpolargl\",\"marker\":{\"colorbar\":{\"outlinewidth\":0,\"ticks\":\"\"}}}],\"bar\":[{\"error_x\":{\"color\":\"#2a3f5f\"},\"error_y\":{\"color\":\"#2a3f5f\"},\"marker\":{\"line\":{\"color\":\"#E5ECF6\",\"width\":0.5},\"pattern\":{\"fillmode\":\"overlay\",\"size\":10,\"solidity\":0.2}},\"type\":\"bar\"}],\"scattergeo\":[{\"type\":\"scattergeo\",\"marker\":{\"colorbar\":{\"outlinewidth\":0,\"ticks\":\"\"}}}],\"scatterpolar\":[{\"type\":\"scatterpolar\",\"marker\":{\"colorbar\":{\"outlinewidth\":0,\"ticks\":\"\"}}}],\"histogram\":[{\"marker\":{\"pattern\":{\"fillmode\":\"overlay\",\"size\":10,\"solidity\":0.2}},\"type\":\"histogram\"}],\"scattergl\":[{\"type\":\"scattergl\",\"marker\":{\"colorbar\":{\"outlinewidth\":0,\"ticks\":\"\"}}}],\"scatter3d\":[{\"type\":\"scatter3d\",\"line\":{\"colorbar\":{\"outlinewidth\":0,\"ticks\":\"\"}},\"marker\":{\"colorbar\":{\"outlinewidth\":0,\"ticks\":\"\"}}}],\"scattermapbox\":[{\"type\":\"scattermapbox\",\"marker\":{\"colorbar\":{\"outlinewidth\":0,\"ticks\":\"\"}}}],\"scatterternary\":[{\"type\":\"scatterternary\",\"marker\":{\"colorbar\":{\"outlinewidth\":0,\"ticks\":\"\"}}}],\"scattercarpet\":[{\"type\":\"scattercarpet\",\"marker\":{\"colorbar\":{\"outlinewidth\":0,\"ticks\":\"\"}}}],\"carpet\":[{\"aaxis\":{\"endlinecolor\":\"#2a3f5f\",\"gridcolor\":\"white\",\"linecolor\":\"white\",\"minorgridcolor\":\"white\",\"startlinecolor\":\"#2a3f5f\"},\"baxis\":{\"endlinecolor\":\"#2a3f5f\",\"gridcolor\":\"white\",\"linecolor\":\"white\",\"minorgridcolor\":\"white\",\"startlinecolor\":\"#2a3f5f\"},\"type\":\"carpet\"}],\"table\":[{\"cells\":{\"fill\":{\"color\":\"#EBF0F8\"},\"line\":{\"color\":\"white\"}},\"header\":{\"fill\":{\"color\":\"#C8D4E3\"},\"line\":{\"color\":\"white\"}},\"type\":\"table\"}],\"barpolar\":[{\"marker\":{\"line\":{\"color\":\"#E5ECF6\",\"width\":0.5},\"pattern\":{\"fillmode\":\"overlay\",\"size\":10,\"solidity\":0.2}},\"type\":\"barpolar\"}],\"pie\":[{\"automargin\":true,\"type\":\"pie\"}]},\"layout\":{\"autotypenumbers\":\"strict\",\"colorway\":[\"#636efa\",\"#EF553B\",\"#00cc96\",\"#ab63fa\",\"#FFA15A\",\"#19d3f3\",\"#FF6692\",\"#B6E880\",\"#FF97FF\",\"#FECB52\"],\"font\":{\"color\":\"#2a3f5f\"},\"hovermode\":\"closest\",\"hoverlabel\":{\"align\":\"left\"},\"paper_bgcolor\":\"white\",\"plot_bgcolor\":\"#E5ECF6\",\"polar\":{\"bgcolor\":\"#E5ECF6\",\"angularaxis\":{\"gridcolor\":\"white\",\"linecolor\":\"white\",\"ticks\":\"\"},\"radialaxis\":{\"gridcolor\":\"white\",\"linecolor\":\"white\",\"ticks\":\"\"}},\"ternary\":{\"bgcolor\":\"#E5ECF6\",\"aaxis\":{\"gridcolor\":\"white\",\"linecolor\":\"white\",\"ticks\":\"\"},\"baxis\":{\"gridcolor\":\"white\",\"linecolor\":\"white\",\"ticks\":\"\"},\"caxis\":{\"gridcolor\":\"white\",\"linecolor\":\"white\",\"ticks\":\"\"}},\"coloraxis\":{\"colorbar\":{\"outlinewidth\":0,\"ticks\":\"\"}},\"colorscale\":{\"sequential\":[[0.0,\"#0d0887\"],[0.1111111111111111,\"#46039f\"],[0.2222222222222222,\"#7201a8\"],[0.3333333333333333,\"#9c179e\"],[0.4444444444444444,\"#bd3786\"],[0.5555555555555556,\"#d8576b\"],[0.6666666666666666,\"#ed7953\"],[0.7777777777777778,\"#fb9f3a\"],[0.8888888888888888,\"#fdca26\"],[1.0,\"#f0f921\"]],\"sequentialminus\":[[0.0,\"#0d0887\"],[0.1111111111111111,\"#46039f\"],[0.2222222222222222,\"#7201a8\"],[0.3333333333333333,\"#9c179e\"],[0.4444444444444444,\"#bd3786\"],[0.5555555555555556,\"#d8576b\"],[0.6666666666666666,\"#ed7953\"],[0.7777777777777778,\"#fb9f3a\"],[0.8888888888888888,\"#fdca26\"],[1.0,\"#f0f921\"]],\"diverging\":[[0,\"#8e0152\"],[0.1,\"#c51b7d\"],[0.2,\"#de77ae\"],[0.3,\"#f1b6da\"],[0.4,\"#fde0ef\"],[0.5,\"#f7f7f7\"],[0.6,\"#e6f5d0\"],[0.7,\"#b8e186\"],[0.8,\"#7fbc41\"],[0.9,\"#4d9221\"],[1,\"#276419\"]]},\"xaxis\":{\"gridcolor\":\"white\",\"linecolor\":\"white\",\"ticks\":\"\",\"title\":{\"standoff\":15},\"zerolinecolor\":\"white\",\"automargin\":true,\"zerolinewidth\":2},\"yaxis\":{\"gridcolor\":\"white\",\"linecolor\":\"white\",\"ticks\":\"\",\"title\":{\"standoff\":15},\"zerolinecolor\":\"white\",\"automargin\":true,\"zerolinewidth\":2},\"scene\":{\"xaxis\":{\"backgroundcolor\":\"#E5ECF6\",\"gridcolor\":\"white\",\"linecolor\":\"white\",\"showbackground\":true,\"ticks\":\"\",\"zerolinecolor\":\"white\",\"gridwidth\":2},\"yaxis\":{\"backgroundcolor\":\"#E5ECF6\",\"gridcolor\":\"white\",\"linecolor\":\"white\",\"showbackground\":true,\"ticks\":\"\",\"zerolinecolor\":\"white\",\"gridwidth\":2},\"zaxis\":{\"backgroundcolor\":\"#E5ECF6\",\"gridcolor\":\"white\",\"linecolor\":\"white\",\"showbackground\":true,\"ticks\":\"\",\"zerolinecolor\":\"white\",\"gridwidth\":2}},\"shapedefaults\":{\"line\":{\"color\":\"#2a3f5f\"}},\"annotationdefaults\":{\"arrowcolor\":\"#2a3f5f\",\"arrowhead\":0,\"arrowwidth\":1},\"geo\":{\"bgcolor\":\"white\",\"landcolor\":\"#E5ECF6\",\"subunitcolor\":\"white\",\"showland\":true,\"showlakes\":true,\"lakecolor\":\"white\"},\"title\":{\"x\":0.05},\"mapbox\":{\"style\":\"light\"}}},\"legend\":{\"tracegroupgap\":0},\"margin\":{\"t\":60},\"treemapcolorway\":[\"rgb(133, 92, 117)\",\"rgb(217, 175, 107)\",\"rgb(175, 100, 88)\",\"rgb(115, 111, 76)\",\"rgb(82, 106, 131)\",\"rgb(98, 83, 119)\",\"rgb(104, 133, 92)\",\"rgb(156, 156, 94)\",\"rgb(160, 97, 119)\",\"rgb(140, 120, 93)\",\"rgb(124, 124, 124)\"]},                        {\"responsive\": true}                    ).then(function(){\n",
       "                            \n",
       "var gd = document.getElementById('bee68c14-0ed8-4df4-a839-6278cde6035c');\n",
       "var x = new MutationObserver(function (mutations, observer) {{\n",
       "        var display = window.getComputedStyle(gd).display;\n",
       "        if (!display || display === 'none') {{\n",
       "            console.log([gd, 'removed!']);\n",
       "            Plotly.purge(gd);\n",
       "            observer.disconnect();\n",
       "        }}\n",
       "}});\n",
       "\n",
       "// Listen for the removal of the full notebook cells\n",
       "var notebookContainer = gd.closest('#notebook-container');\n",
       "if (notebookContainer) {{\n",
       "    x.observe(notebookContainer, {childList: true});\n",
       "}}\n",
       "\n",
       "// Listen for the clearing of the current output cell\n",
       "var outputEl = gd.closest('.output');\n",
       "if (outputEl) {{\n",
       "    x.observe(outputEl, {childList: true});\n",
       "}}\n",
       "\n",
       "                        })                };                });            </script>        </div>"
      ]
     },
     "metadata": {},
     "output_type": "display_data"
    }
   ],
   "source": [
    "df1  =df['PreferredPaymentMode'].value_counts().reset_index()\n",
    "df1.columns = ['mode', 'count']\n",
    "df1\n",
    "\n",
    "import plotly.express as px\n",
    "fig = px.treemap(df1, path = ['mode'],\n",
    "                 values = 'count', \n",
    "                 color_discrete_sequence=px.colors.qualitative.Antique)\n",
    "fig.show()"
   ]
  },
  {
   "cell_type": "code",
   "execution_count": 261,
   "id": "fcc3bbec",
   "metadata": {},
   "outputs": [
    {
     "data": {
      "image/png": "[encoded data removed]",
      "text/plain": [
       "<Figure size 900x400 with 1 Axes>"
      ]
     },
     "metadata": {},
     "output_type": "display_data"
    }
   ],
   "source": [
    "plt.figure(figsize = (9,4))\n",
    "sns.set_style('darkgrid')\n",
    "sns.countplot(x  = 'PreferredPaymentMode',  data = df, palette = 'Pastel2', hue = 'Churn' );"
   ]
  },
  {
   "cell_type": "code",
   "execution_count": 257,
   "id": "b138a42b",
   "metadata": {},
   "outputs": [
    {
     "data": {
      "text/plain": [
       "Debit Card          1538\n",
       "Credit Card         1159\n",
       "E wallet             443\n",
       "Cash on Delivery     349\n",
       "UPI                  285\n",
       "Name: PreferredPaymentMode, dtype: int64"
      ]
     },
     "execution_count": 257,
     "metadata": {},
     "output_type": "execute_result"
    }
   ],
   "source": [
    "df['PreferredPaymentMode'].value_counts()"
   ]
  },
  {
   "cell_type": "markdown",
   "id": "d8b32471",
   "metadata": {},
   "source": [
    "## Insight :\n",
    "Transaksi paling banyak dilakukan pembayaran nya adalah melalui debit card sedangkan UPI adalah yang paling sedikit. Dengan begitu perusahaan dapat memberikan penawaran khusus ketika customer memilih metode pembayarannya misalnya dengan menggunakan metode pembayaran melalui Debit Card maka ada cashback 5% dari harga transakasi."
   ]
  },
  {
   "cell_type": "markdown",
   "id": "704ae8a8",
   "metadata": {},
   "source": [
    "## 4. Bagaimana hubungan antara jarak werehouse terhadap rumah customer pada city tier yang berbeda?"
   ]
  },
  {
   "cell_type": "code",
   "execution_count": 262,
   "id": "9a34585e",
   "metadata": {},
   "outputs": [
    {
     "data": {
      "image/png": "[encoded data removed]",
      "text/plain": [
       "<Figure size 300x500 with 1 Axes>"
      ]
     },
     "metadata": {},
     "output_type": "display_data"
    }
   ],
   "source": [
    "df2 = df.copy()\n",
    "\n",
    "df2['CityTier'].astype('str')\n",
    "plt.figure(figsize = (3,5))\n",
    "sns.barplot(x = 'CityTier', y = 'WarehouseToHome', hue = 'Churn', data = df2, errorbar = None)\n",
    "plt.ylabel(' Jarak antara gudang barang kerumah customer');"
   ]
  },
  {
   "cell_type": "markdown",
   "id": "fbd66338",
   "metadata": {},
   "source": [
    "## Insight :\n",
    "Pada setiap city tier 1, 2 dan 3 rata-rata memiliki jarak warehouse ke rumah customer diatas 10km, di tingkat kota 2 tingkat churn nya paling tinggi sehingga pada tingkat kota 2 harus menambah warehouse untuk memperpendek jarak antara gudang barang dengan rumah customer sehingga biaya ongkir akan lebih murah ketika jarak gudang semakin dekat dengan rumah customer, opsi lainnya perusahaan dapat memberikan gratis ongkir untuk pembelian dengan nominal harga tertentu, misalnya minimal transaksi sebesar Rp 80.000 diberi diskon ongkir per KM nya 2000 rupiah "
   ]
  },
  {
   "cell_type": "markdown",
   "id": "f6f8cd60",
   "metadata": {},
   "source": [
    "## 5. Apa kategori barang yang paling banyak di order oleh customer?"
   ]
  },
  {
   "cell_type": "code",
   "execution_count": 263,
   "id": "53dd328a",
   "metadata": {},
   "outputs": [
    {
     "data": {
      "text/plain": [
       "Laptop & Accessory    1961\n",
       "Mobile Phone          1227\n",
       "Fashion                443\n",
       "Mobile                 119\n",
       "Others                  18\n",
       "Grocery                  6\n",
       "Name: PreferedOrderCat, dtype: int64"
      ]
     },
     "execution_count": 263,
     "metadata": {},
     "output_type": "execute_result"
    }
   ],
   "source": [
    "df['PreferedOrderCat'].value_counts()"
   ]
  },
  {
   "cell_type": "code",
   "execution_count": 264,
   "id": "409f0120",
   "metadata": {},
   "outputs": [],
   "source": [
    "df.loc[df['PreferedOrderCat'] == 'Mobile', 'PreferedOrderCat' ] = 'Mobile Phone'"
   ]
  },
  {
   "cell_type": "code",
   "execution_count": 300,
   "id": "24e012b6",
   "metadata": {},
   "outputs": [
    {
     "data": {
      "image/png": "[encoded data removed]",
      "text/plain": [
       "<Figure size 800x400 with 1 Axes>"
      ]
     },
     "metadata": {},
     "output_type": "display_data"
    }
   ],
   "source": [
    "plt.figure(figsize = (8,4))\n",
    "sns.countplot(x ='PreferedOrderCat', data = df, hue = 'Churn',\n",
    "              palette = 'cubehelix',\n",
    "              order = df['PreferedOrderCat'].value_counts().index) \n",
    "plt.xlabel('Kategori barang');"
   ]
  },
  {
   "cell_type": "code",
   "execution_count": 266,
   "id": "10a6d855",
   "metadata": {},
   "outputs": [
    {
     "data": {
      "text/plain": [
       "Laptop & Accessory    1961\n",
       "Mobile Phone          1346\n",
       "Fashion                443\n",
       "Others                  18\n",
       "Grocery                  6\n",
       "Name: PreferedOrderCat, dtype: int64"
      ]
     },
     "execution_count": 266,
     "metadata": {},
     "output_type": "execute_result"
    }
   ],
   "source": [
    "df['PreferedOrderCat'].value_counts()"
   ]
  },
  {
   "cell_type": "markdown",
   "id": "eba28505",
   "metadata": {},
   "source": [
    "## Insight:\n",
    "Dari grafik tersebut, kategori barang yang paling banyak di order oleh customer adalah `Laptop & Accessory` dilanjutkan oleh `Mobile Phone` dan yang paling sedikit adalah kategori `Grocery`. \n",
    "Untuk meningkatkan penjualan pada kategori others maupun grocery perusahaan dapat memberikan diskon maupun cashback untuk jumlah pembelian maupun jumlah nominal harga tertentu."
   ]
  },
  {
   "cell_type": "markdown",
   "id": "6d49358b",
   "metadata": {},
   "source": [
    "## 6. Bagaimana hubungan antara gender dan marital status customer terhadap tingkat churn?"
   ]
  },
  {
   "cell_type": "code",
   "execution_count": 267,
   "id": "90a0ffb9",
   "metadata": {},
   "outputs": [],
   "source": [
    "def stacked_plot(x):  \n",
    "    sns.set(palette='Pastel2')\n",
    "\n",
    "    tab = pd.crosstab(x,df['Churn'],normalize='index')\n",
    "    tab.plot(kind='bar',stacked=True,figsize=(8,3))\n",
    "    \n",
    "    plt.legend(loc=\"upper right\", bbox_to_anchor=(1.05,1))\n",
    "    plt.ylabel('Proportion')\n",
    "    plt.xticks(np.arange(len(tab.index.tolist())),tab.index.tolist(),rotation=0)\n",
    "    plt.show()"
   ]
  },
  {
   "cell_type": "code",
   "execution_count": 268,
   "id": "a4889297",
   "metadata": {},
   "outputs": [
    {
     "data": {
      "image/png": "[encoded data removed]",
      "text/plain": [
       "<Figure size 800x300 with 1 Axes>"
      ]
     },
     "metadata": {},
     "output_type": "display_data"
    }
   ],
   "source": [
    "stacked_plot(df['Gender'])"
   ]
  },
  {
   "cell_type": "code",
   "execution_count": 269,
   "id": "8a7ca96e",
   "metadata": {},
   "outputs": [
    {
     "data": {
      "text/plain": [
       "Male      2271\n",
       "Female    1503\n",
       "Name: Gender, dtype: int64"
      ]
     },
     "execution_count": 269,
     "metadata": {},
     "output_type": "execute_result"
    }
   ],
   "source": [
    "df['Gender'].value_counts()"
   ]
  },
  {
   "cell_type": "code",
   "execution_count": 270,
   "id": "442168a4",
   "metadata": {},
   "outputs": [
    {
     "data": {
      "image/png": "[encoded data removed]",
      "text/plain": [
       "<Figure size 800x300 with 1 Axes>"
      ]
     },
     "metadata": {},
     "output_type": "display_data"
    }
   ],
   "source": [
    "stacked_plot(df['MaritalStatus'])"
   ]
  },
  {
   "cell_type": "code",
   "execution_count": 271,
   "id": "ad173378",
   "metadata": {
    "scrolled": true
   },
   "outputs": [
    {
     "data": {
      "text/plain": [
       "Married     1982\n",
       "Single      1245\n",
       "Divorced     547\n",
       "Name: MaritalStatus, dtype: int64"
      ]
     },
     "execution_count": 271,
     "metadata": {},
     "output_type": "execute_result"
    }
   ],
   "source": [
    "df['MaritalStatus'].value_counts()"
   ]
  },
  {
   "cell_type": "markdown",
   "id": "d00a6a37",
   "metadata": {},
   "source": [
    "## Insight :\n",
    "Dari grafik diatas, proporsi antara gender female dan male sama rata dimana customer yang churn lebih sedikit dibanding yang tidak churn. Hal tersebut menunjukan bahwa gender tidak begitu memiliki pengaruh terhadap tingkat customer churn. \n",
    "\n",
    "Begitupun untuk proporsi Marital status antara yang divorced dengan married dan Single proporsi nya tidak jauh berbeda sehingga untuk variable `Gender` dan `MaritalStatus` tidak begitu berperan dalam mempengaruhi tingkat churn."
   ]
  },
  {
   "cell_type": "markdown",
   "id": "d483989c",
   "metadata": {},
   "source": [
    "## Conclusion\n",
    "\n"
   ]
  },
  {
   "cell_type": "markdown",
   "id": "e4031aa4",
   "metadata": {},
   "source": [
    "- Terdapat 5630 data customer yang ada di data set sebelum dilakukan data cleaning. Dan tidak ada data duplikat\n",
    "- Terdapat 7 variable memiliki missing value dan semua value yang kosong berada dibawah 6%. Serta muncul 4 variable baru yang memiliki value kosong diatas 10%.\n",
    "- Variable yang missing value nya dibawah 10% dihapus barisnya yang kosong tersebut, dan variable yang missing value nya diatas 10% maka dihapus kolomnya. Serta kolom CustomerID dihilangkan juga karena hanya berisi ID unik Customer\n",
    "- Pada setiap city tier 1, 2 dan 3 rata-rata memiliki jarak warehouse ke rumah customer diatas 10km\n",
    "- Jumlah customer yang churn lebih sedikit dibandingkan \n",
    "- Mayoritas customer menggunakan Mobile phone untuk login ke ecommerce.\n",
    "- Transaksi paling banyak dilakukan pembayaran nya adalah melalui debit card sedangkan UPI adalah yang paling sedikit.\n",
    "- kategori barang yang paling banyak di order oleh customer adalah Laptop & Accessory dilanjutkan oleh Mobile Phone dan yang paling sedikit adalah kategori Grocery\n",
    "- variable Gender dan MaritalStatus tidak begitu berperan dalam mempengaruhi tingkat churn"
   ]
  },
  {
   "cell_type": "markdown",
   "id": "0acd7876",
   "metadata": {},
   "source": [
    "## Recommendation"
   ]
  },
  {
   "cell_type": "markdown",
   "id": "86b27b79",
   "metadata": {},
   "source": [
    "- Untuk mempertahankan keunggulan penjualan pada kategori Laptop & Accessory dilanjutkan oleh Mobile Phone yang mana berkaitan dengan barang elektronik maka perusahaan bisa memberikan opsi kepada customer untuk menggunakan `Asurnasi Pengiriman` untuk menjamin kemanan paket yang dikenakan biaya tambahan.\n",
    "-  Berkaitan dengan jarak warehouse dan rumah customer, Perusahaan dapat memberikan gratis ongkir untuk pembelian dengan nominal harga tertentu, misalnya minimal transaksi sebesar Rp 80.000 diberi diskon ongkir per KM nya 500 rupiah.\n",
    "- Karena mayoritas customer login menggunakan mobile phone untuk menggunakan aplikasi maka perusahaan dapat meningkatkan tampilan UX maupun UI harus ditingkatkan pada versi mobile nya demi kenyamanan customer saat menggunakan aplikasi.\n",
    "- perusahaan dapat memberikan penawaran khusus ketika customer memilih metode pembayarannya misalnya dengan menggunakan metode pembayaran melalui Debit Card maka ada cashback 5% dari nominal transakasi."
   ]
  }
 ],
 "metadata": {
  "kernelspec": {
   "display_name": "Python 3 (ipykernel)",
   "language": "python",
   "name": "python3"
  },
  "language_info": {
   "codemirror_mode": {
    "name": "ipython",
    "version": 3
   },
   "file_extension": ".py",
   "mimetype": "text/x-python",
   "name": "python",
   "nbconvert_exporter": "python",
   "pygments_lexer": "ipython3",
   "version": "3.10.6"
  }
 },
 "nbformat": 4,
 "nbformat_minor": 5
}
